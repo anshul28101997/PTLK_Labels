{
 "cells": [
  {
   "cell_type": "code",
   "execution_count": null,
   "id": "615754c8-e97b-4249-8d93-94fa2fcfdfc6",
   "metadata": {},
   "outputs": [],
   "source": [
    "! pip install FPDF"
   ]
  },
  {
   "cell_type": "code",
   "execution_count": null,
   "id": "483d85ac-3301-44b9-ad04-234211bfd066",
   "metadata": {},
   "outputs": [],
   "source": [
    "from fpdf import FPDF\n",
    "pdf = FPDF()\n",
    "pdf.set_margins(left=30, right=1, top=15)\n",
    "\n",
    "\n",
    "prod_name = \"Biofilter 4.5Kg Bales\"\n",
    "prod_class = \"Biofilter CBM 105\"\n",
    "order_no = input(\"please enter order number: \")\n",
    "date = input(\"please enter date of production: \")\n",
    "container = input(\"please enter container number: \")\n",
    "location = \"Koco & Koir Exports Pvt Ltd\"\n",
    "country = \"India\"\n",
    "\n",
    "for i in range(20):\n",
    "\tweight = input(\"please input weight: \")\n",
    "\tfor j in range (2):\n",
    "\t\n",
    "\t\tpdf.add_page(orientation=\"L\") #Landscape\n",
    "\t\tpdf.rect(10,10,275,190,\"D\") #Border\n",
    "\t\tpdf.set_font(\"Arial\", size = 32)\n",
    "\t\t# create a cell\n",
    "\t\tpdf.cell(0, 19, txt = \"Product Name      :\"+prod_name, ln = 1, align = 'L') #, border=1\n",
    "\t\tpdf.cell(0, 19, txt = \"Product Class       :\"+prod_class, ln = 2, align = 'L')\n",
    "\t\tpdf.cell(0, 19, txt = \"Order Number      :\"+order_no, ln = 3, align = 'L')\n",
    "\t\tpdf.cell(0, 19, txt = \"Pallet Number      :\"+str(i+1)+\" of 20\", ln = 4, align = 'L')\n",
    "\t\tpdf.cell(0, 19, txt = \"Quantity               :\"+str(weight)+\"Kg\", ln = 5, align = 'L')\n",
    "\t\tpdf.cell(0, 19, txt = \"Production Date   :\"+date, ln = 6, align = 'L')\n",
    "\t\tpdf.cell(0, 19, txt = \"Container No.      :\"+container, ln = 7, align = 'L')\n",
    "\t\tpdf.cell(0, 19, txt = \"Location               :\"+location, ln = 8, align = 'L')\n",
    "\t\tpdf.cell(0, 19, txt = \"Country of Origin  :\"+country, ln = 9, align = 'L')\n",
    "\n",
    "# save the pdf with name .pdf\n",
    "pdf.output(\"BFM_Labels.pdf\")"
   ]
  }
 ],
 "metadata": {
  "kernelspec": {
   "display_name": "Python 3 (ipykernel)",
   "language": "python",
   "name": "python3"
  },
  "language_info": {
   "codemirror_mode": {
    "name": "ipython",
    "version": 3
   },
   "file_extension": ".py",
   "mimetype": "text/x-python",
   "name": "python",
   "nbconvert_exporter": "python",
   "pygments_lexer": "ipython3",
   "version": "3.7.12"
  }
 },
 "nbformat": 4,
 "nbformat_minor": 5
}
