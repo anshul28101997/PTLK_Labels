{
 "cells": [
  {
   "cell_type": "code",
   "execution_count": 1,
   "id": "14029e5e-1387-494a-af4b-438cc0844178",
   "metadata": {},
   "outputs": [
    {
     "name": "stdout",
     "output_type": "stream",
     "text": [
      "Requirement already satisfied: FPDF in /srv/conda/envs/notebook/lib/python3.7/site-packages (1.7.2)\n"
     ]
    }
   ],
   "source": [
    "! pip install FPDF"
   ]
  },
  {
   "cell_type": "code",
   "execution_count": 17,
   "id": "861ff535-3ebc-45bf-89e5-7eb0d500b83e",
   "metadata": {},
   "outputs": [
    {
     "name": "stdin",
     "output_type": "stream",
     "text": [
      "please enter Month:  Jan\n",
      "Please enter voucher Start:  1\n",
      "Please enter voucher End:  20\n",
      "Please input number of days in the month:  20\n"
     ]
    },
    {
     "data": {
      "text/plain": [
       "''"
      ]
     },
     "execution_count": 17,
     "metadata": {},
     "output_type": "execute_result"
    }
   ],
   "source": [
    "import random\n",
    "from fpdf import FPDF\n",
    "pdf = FPDF()\n",
    "pdf.set_margins(left=30, right=1, top=15)\n",
    "\n",
    "\n",
    "\n",
    "form = \"Husk Purchase Checking Form\"\n",
    "month = input(\"please enter Month: \")\n",
    "location = \"Koco & Koir Exports Pvt Ltd\"\n",
    "country = \"India\"\n",
    "space = \"        \"\n",
    "space2= space*2\n",
    "space4= space*4\n",
    "voucherStart = int(input(\"Please enter voucher Start: \"))\n",
    "voucherEnd = int(input(\"Please enter voucher End: \"))\n",
    "days= int(input(\"Please input number of days in the month: \"))\n",
    "\n",
    "suppliers = []\n",
    "suppliers.append(\"H1: Vijay        \")\n",
    "suppliers.append(\"H2: Anganan    \")\n",
    "suppliers.append(\"H3: Sabari       \")\n",
    "suppliers.append(\"H4: Deepa         \")\n",
    "suppliers.append(\"H5: Madan        \")\n",
    "suppliers.append(\"H6: Nagarj      \")\n",
    "suppliers.append(\"H7: Mariamman\")\n",
    "# suppliers.append()\n",
    "# suppliers.append()\n",
    "\n",
    "pdf.add_page(orientation=\"L\") #Landscape\n",
    "pdf.set_font(\"Arial\", size = 16)\n",
    "pdf.cell(0, 19, txt =form+space+\"Month:\"+month+space+\"Location:\"+location, ln = 1, align = 'L', border=1) #, border=1\n",
    "pdf.cell(0, 19, txt =\"Date    Supplier                   Kgs          Type         Contamination          Size      Status      Remarks\", ln = 1, align = 'L', border=1) #, border=1\n",
    "    \n",
    "date = 1\n",
    "i = voucherStart\n",
    "counter = 0\n",
    "pdf.set_font(\"Arial\", size = 10)\n",
    "while (i <= voucherEnd) and (date<=days):\n",
    "    if random.random()<0.5: #if this voucher is for husk\n",
    "        color = random.randint(0,1) # 0 is green, 1 is brown\n",
    "        size = random.choice([\"Large\", \"Avg    \", \"Small\"])\n",
    "        if color == 0:\n",
    "            pdf.cell(0, 12, txt =str(date) +space2+ random.choice(suppliers) +space4+ str(random.randint(3200, 3800)) +space2+\"Green\"+space4+\"NO\"+space4+ size+ space2+\"Accept\"+space2+\"---\", ln = counter, align = 'L')\n",
    "        else:\n",
    "            pdf.cell(0, 12, txt =str(date) +space2+ random.choice(suppliers) +space4+ str(random.randint(1800, 2400)) +space2+\"Brown\"+space4+\"NO\"+space4+ size+ space2+\"Accept\"+space2+\"---\", ln = counter, align = 'L')\n",
    "        counter = counter+1\n",
    "        \n",
    "    if random.random()<0.25: #if there are no more loads today\n",
    "        date = date+1\n",
    "        \n",
    "    \n",
    "\n",
    "# save the pdf with name .pdf\n",
    "pdf.output(\"HuskPurchase.pdf\")"
   ]
  },
  {
   "cell_type": "code",
   "execution_count": null,
   "id": "67d32029-519d-40e4-b73b-ac3511b214c4",
   "metadata": {},
   "outputs": [],
   "source": []
  }
 ],
 "metadata": {
  "kernelspec": {
   "display_name": "Python 3 (ipykernel)",
   "language": "python",
   "name": "python3"
  },
  "language_info": {
   "codemirror_mode": {
    "name": "ipython",
    "version": 3
   },
   "file_extension": ".py",
   "mimetype": "text/x-python",
   "name": "python",
   "nbconvert_exporter": "python",
   "pygments_lexer": "ipython3",
   "version": "3.7.12"
  }
 },
 "nbformat": 4,
 "nbformat_minor": 5
}
