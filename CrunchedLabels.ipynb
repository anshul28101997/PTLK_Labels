{
 "cells": [
  {
   "cell_type": "code",
   "execution_count": 2,
   "id": "4cded26b-3820-4d02-b566-459bb8b3059e",
   "metadata": {},
   "outputs": [
    {
     "ename": "ModuleNotFoundError",
     "evalue": "No module named 'fpdf'",
     "output_type": "error",
     "traceback": [
      "\u001b[0;31m---------------------------------------------------------------------------\u001b[0m",
      "\u001b[0;31mModuleNotFoundError\u001b[0m                       Traceback (most recent call last)",
      "\u001b[0;32m/tmp/ipykernel_49/3595068717.py\u001b[0m in \u001b[0;36m<module>\u001b[0;34m\u001b[0m\n\u001b[0;32m----> 1\u001b[0;31m \u001b[0;32mfrom\u001b[0m \u001b[0mfpdf\u001b[0m \u001b[0;32mimport\u001b[0m \u001b[0mFPDF\u001b[0m\u001b[0;34m\u001b[0m\u001b[0;34m\u001b[0m\u001b[0m\n\u001b[0m\u001b[1;32m      2\u001b[0m \u001b[0mpdf\u001b[0m \u001b[0;34m=\u001b[0m \u001b[0mFPDF\u001b[0m\u001b[0;34m(\u001b[0m\u001b[0;34m)\u001b[0m\u001b[0;34m\u001b[0m\u001b[0;34m\u001b[0m\u001b[0m\n\u001b[1;32m      3\u001b[0m \u001b[0mpdf\u001b[0m\u001b[0;34m.\u001b[0m\u001b[0mset_margins\u001b[0m\u001b[0;34m(\u001b[0m\u001b[0mleft\u001b[0m\u001b[0;34m=\u001b[0m\u001b[0;36m30\u001b[0m\u001b[0;34m,\u001b[0m \u001b[0mright\u001b[0m\u001b[0;34m=\u001b[0m\u001b[0;36m1\u001b[0m\u001b[0;34m,\u001b[0m \u001b[0mtop\u001b[0m\u001b[0;34m=\u001b[0m\u001b[0;36m15\u001b[0m\u001b[0;34m)\u001b[0m\u001b[0;34m\u001b[0m\u001b[0;34m\u001b[0m\u001b[0m\n\u001b[1;32m      4\u001b[0m \u001b[0;34m\u001b[0m\u001b[0m\n\u001b[1;32m      5\u001b[0m \u001b[0;34m\u001b[0m\u001b[0m\n",
      "\u001b[0;31mModuleNotFoundError\u001b[0m: No module named 'fpdf'"
     ]
    }
   ],
   "source": [
    "from fpdf import FPDF\n",
    "pdf = FPDF()\n",
    "pdf.set_margins(left=30, right=1, top=15)\n",
    "\n",
    "\n",
    "prod_code = \"M8215\"\n",
    "prod_name = \"Crunch Coir\"\n",
    "location = \"Koco & Koir Exports Pvt Ltd, #236 Rasipalayam, Coimbatore, India\"\n",
    "order_no = input(\"please enter order number: \")\n",
    "date = input(\"please enter date of production: \")\n",
    "pcs = \"228\"\n",
    "container = input(\"please enter container number: \")\n",
    "\n",
    "\n",
    "for i in range(20):\n",
    "    weight = input(\"please input weight: \")\n",
    "    for j in range (2):\n",
    "    \n",
    "        pdf.add_page(orientation=\"L\") #Landscape\n",
    "        pdf.rect(10,10,275,190,\"D\") #Border\n",
    "        \n",
    "        pdf.set_font(\"Arial\", size = 26)\n",
    "        pdf.rect(15,15,267,30,\"D\") #Border\n",
    "        # create a cell\n",
    "        pdf.cell(0, 15, txt = \"PTH SKU                               :\" + prod_code, ln = 1, align = 'L')#, border=1\n",
    "        pdf.cell(0, 15, txt = \"PTH SKU DESCRIPTION     :\" + prod_name, ln = 2, align = 'L') \n",
    "        \n",
    "        pdf.cell(0, 15, txt = \"\", ln = 3, align = 'L') #spacer\n",
    "        pdf.set_font(\"Arial\", size = 20)\n",
    "        pdf.rect(15,60,267,60,\"D\") #Border\n",
    "        pdf.cell(0, 15, txt = \"Supplier  : \" + location, ln = 4, align = 'L') \n",
    "        pdf.cell(0, 15, txt = \"PTH Purchase Order Number    :\" + order_no, ln = 5, align = 'L') \n",
    "        pdf.cell(0, 15, txt = \"Production Date                         :\" + date, ln = 6, align = 'L') \n",
    "        pdf.cell(0, 15, txt = \"Production Lot No                      :\" + str(i) + \"/20\", ln = 7, align = 'L') \n",
    "        \n",
    "        pdf.cell(0, 10, txt = \"\", ln = 8, align = 'L')  #spacer\n",
    "        pdf.set_font(\"Arial\", size = 20)\n",
    "        pdf.rect(15,130,267,30,\"D\") #Border\n",
    "        pdf.cell(0, 15, txt = \"Total Quantity on this Pallet (W/Unit of Measure)               : \" + pcs + \"pcs\", ln = 9, align = 'L') \n",
    "        pdf.cell(0, 15, txt = \"Pallet Gross Weight (Kgs)                                                   : \" + weight + \"Kgs\", ln = 10, align = 'L') \n",
    "        \n",
    "        pdf.cell(0, 10, txt = \"\", ln = 11, align = 'L')  #spacer\n",
    "        pdf.set_font(\"Arial\", size = 26)\n",
    "        pdf.rect(15,170,267,15,\"D\") #Border\n",
    "        pdf.cell(0, 15, txt = \"Supplier Info : \" + container, ln = 12, align = 'L') \n",
    "        \n",
    "        \n",
    "\n",
    "# save the pdf with name .pdf\n",
    "pdf.output(\"PLTK_Labels.pdf\")"
   ]
  },
  {
   "cell_type": "code",
   "execution_count": null,
   "id": "8abfe466-3534-45bd-8516-cf52272ef5de",
   "metadata": {},
   "outputs": [],
   "source": []
  }
 ],
 "metadata": {
  "kernelspec": {
   "display_name": "Python 3 (ipykernel)",
   "language": "python",
   "name": "python3"
  },
  "language_info": {
   "codemirror_mode": {
    "name": "ipython",
    "version": 3
   },
   "file_extension": ".py",
   "mimetype": "text/x-python",
   "name": "python",
   "nbconvert_exporter": "python",
   "pygments_lexer": "ipython3",
   "version": "3.7.12"
  }
 },
 "nbformat": 4,
 "nbformat_minor": 5
}
